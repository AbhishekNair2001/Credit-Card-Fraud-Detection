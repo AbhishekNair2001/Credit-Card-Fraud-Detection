{
 "cells": [
  {
   "cell_type": "code",
   "execution_count": 1,
   "id": "45996e3d",
   "metadata": {
    "_cell_guid": "b1076dfc-b9ad-4769-8c92-a6c4dae69d19",
    "_uuid": "8f2839f25d086af736a60e9eeb907d3b93b6e0e5",
    "execution": {
     "iopub.execute_input": "2022-11-06T09:16:09.121522Z",
     "iopub.status.busy": "2022-11-06T09:16:09.120823Z",
     "iopub.status.idle": "2022-11-06T09:16:09.138504Z",
     "shell.execute_reply": "2022-11-06T09:16:09.137664Z"
    },
    "papermill": {
     "duration": 0.033322,
     "end_time": "2022-11-06T09:16:09.142115",
     "exception": false,
     "start_time": "2022-11-06T09:16:09.108793",
     "status": "completed"
    },
    "tags": []
   },
   "outputs": [
    {
     "name": "stdout",
     "output_type": "stream",
     "text": [
      "/kaggle/input/creditcardfraud/creditcard.csv\n"
     ]
    }
   ],
   "source": [
    "# This Python 3 environment comes with many helpful analytics libraries installed\n",
    "# It is defined by the kaggle/python Docker image: https://github.com/kaggle/docker-python\n",
    "# For example, here's several helpful packages to load\n",
    "\n",
    "import numpy as np # linear algebra\n",
    "import pandas as pd # data processing, CSV file I/O (e.g. pd.read_csv)\n",
    "\n",
    "# Input data files are available in the read-only \"../input/\" directory\n",
    "# For example, running this (by clicking run or pressing Shift+Enter) will list all files under the input directory\n",
    "\n",
    "import os\n",
    "for dirname, _, filenames in os.walk('/kaggle/input'):\n",
    "    for filename in filenames:\n",
    "        print(os.path.join(dirname, filename))\n",
    "\n",
    "# You can write up to 20GB to the current directory (/kaggle/working/) that gets preserved as output when you create a version using \"Save & Run All\" \n",
    "# You can also write temporary files to /kaggle/temp/, but they won't be saved outside of the current session"
   ]
  },
  {
   "cell_type": "markdown",
   "id": "691cf343",
   "metadata": {
    "papermill": {
     "duration": 0.008482,
     "end_time": "2022-11-06T09:16:09.160300",
     "exception": false,
     "start_time": "2022-11-06T09:16:09.151818",
     "status": "completed"
    },
    "tags": []
   },
   "source": [
    "## Importing the Dependencies"
   ]
  },
  {
   "cell_type": "code",
   "execution_count": 2,
   "id": "df91f47a",
   "metadata": {
    "execution": {
     "iopub.execute_input": "2022-11-06T09:16:09.179653Z",
     "iopub.status.busy": "2022-11-06T09:16:09.179058Z",
     "iopub.status.idle": "2022-11-06T09:16:10.456655Z",
     "shell.execute_reply": "2022-11-06T09:16:10.455423Z"
    },
    "papermill": {
     "duration": 1.290432,
     "end_time": "2022-11-06T09:16:10.459435",
     "exception": false,
     "start_time": "2022-11-06T09:16:09.169003",
     "status": "completed"
    },
    "tags": []
   },
   "outputs": [],
   "source": [
    "import numpy as np\n",
    "import pandas as pd\n",
    "from sklearn.model_selection import train_test_split\n",
    "from sklearn.linear_model import LogisticRegression\n",
    "from sklearn.metrics import accuracy_score\n"
   ]
  },
  {
   "cell_type": "code",
   "execution_count": 3,
   "id": "acbcb9d5",
   "metadata": {
    "execution": {
     "iopub.execute_input": "2022-11-06T09:16:10.477831Z",
     "iopub.status.busy": "2022-11-06T09:16:10.477061Z",
     "iopub.status.idle": "2022-11-06T09:16:15.305870Z",
     "shell.execute_reply": "2022-11-06T09:16:15.304657Z"
    },
    "papermill": {
     "duration": 4.841011,
     "end_time": "2022-11-06T09:16:15.308809",
     "exception": false,
     "start_time": "2022-11-06T09:16:10.467798",
     "status": "completed"
    },
    "tags": []
   },
   "outputs": [],
   "source": [
    "#Loading the dataset to pandas dataframe\n",
    "credit_card_data = pd.read_csv('../input/creditcardfraud/creditcard.csv')\n"
   ]
  },
  {
   "cell_type": "code",
   "execution_count": 4,
   "id": "78f51d68",
   "metadata": {
    "execution": {
     "iopub.execute_input": "2022-11-06T09:16:15.328638Z",
     "iopub.status.busy": "2022-11-06T09:16:15.328170Z",
     "iopub.status.idle": "2022-11-06T09:16:15.368941Z",
     "shell.execute_reply": "2022-11-06T09:16:15.368062Z"
    },
    "papermill": {
     "duration": 0.053513,
     "end_time": "2022-11-06T09:16:15.371108",
     "exception": false,
     "start_time": "2022-11-06T09:16:15.317595",
     "status": "completed"
    },
    "tags": []
   },
   "outputs": [
    {
     "data": {
      "text/html": [
       "<div>\n",
       "<style scoped>\n",
       "    .dataframe tbody tr th:only-of-type {\n",
       "        vertical-align: middle;\n",
       "    }\n",
       "\n",
       "    .dataframe tbody tr th {\n",
       "        vertical-align: top;\n",
       "    }\n",
       "\n",
       "    .dataframe thead th {\n",
       "        text-align: right;\n",
       "    }\n",
       "</style>\n",
       "<table border=\"1\" class=\"dataframe\">\n",
       "  <thead>\n",
       "    <tr style=\"text-align: right;\">\n",
       "      <th></th>\n",
       "      <th>Time</th>\n",
       "      <th>V1</th>\n",
       "      <th>V2</th>\n",
       "      <th>V3</th>\n",
       "      <th>V4</th>\n",
       "      <th>V5</th>\n",
       "      <th>V6</th>\n",
       "      <th>V7</th>\n",
       "      <th>V8</th>\n",
       "      <th>V9</th>\n",
       "      <th>...</th>\n",
       "      <th>V21</th>\n",
       "      <th>V22</th>\n",
       "      <th>V23</th>\n",
       "      <th>V24</th>\n",
       "      <th>V25</th>\n",
       "      <th>V26</th>\n",
       "      <th>V27</th>\n",
       "      <th>V28</th>\n",
       "      <th>Amount</th>\n",
       "      <th>Class</th>\n",
       "    </tr>\n",
       "  </thead>\n",
       "  <tbody>\n",
       "    <tr>\n",
       "      <th>0</th>\n",
       "      <td>0.0</td>\n",
       "      <td>-1.359807</td>\n",
       "      <td>-0.072781</td>\n",
       "      <td>2.536347</td>\n",
       "      <td>1.378155</td>\n",
       "      <td>-0.338321</td>\n",
       "      <td>0.462388</td>\n",
       "      <td>0.239599</td>\n",
       "      <td>0.098698</td>\n",
       "      <td>0.363787</td>\n",
       "      <td>...</td>\n",
       "      <td>-0.018307</td>\n",
       "      <td>0.277838</td>\n",
       "      <td>-0.110474</td>\n",
       "      <td>0.066928</td>\n",
       "      <td>0.128539</td>\n",
       "      <td>-0.189115</td>\n",
       "      <td>0.133558</td>\n",
       "      <td>-0.021053</td>\n",
       "      <td>149.62</td>\n",
       "      <td>0</td>\n",
       "    </tr>\n",
       "    <tr>\n",
       "      <th>1</th>\n",
       "      <td>0.0</td>\n",
       "      <td>1.191857</td>\n",
       "      <td>0.266151</td>\n",
       "      <td>0.166480</td>\n",
       "      <td>0.448154</td>\n",
       "      <td>0.060018</td>\n",
       "      <td>-0.082361</td>\n",
       "      <td>-0.078803</td>\n",
       "      <td>0.085102</td>\n",
       "      <td>-0.255425</td>\n",
       "      <td>...</td>\n",
       "      <td>-0.225775</td>\n",
       "      <td>-0.638672</td>\n",
       "      <td>0.101288</td>\n",
       "      <td>-0.339846</td>\n",
       "      <td>0.167170</td>\n",
       "      <td>0.125895</td>\n",
       "      <td>-0.008983</td>\n",
       "      <td>0.014724</td>\n",
       "      <td>2.69</td>\n",
       "      <td>0</td>\n",
       "    </tr>\n",
       "    <tr>\n",
       "      <th>2</th>\n",
       "      <td>1.0</td>\n",
       "      <td>-1.358354</td>\n",
       "      <td>-1.340163</td>\n",
       "      <td>1.773209</td>\n",
       "      <td>0.379780</td>\n",
       "      <td>-0.503198</td>\n",
       "      <td>1.800499</td>\n",
       "      <td>0.791461</td>\n",
       "      <td>0.247676</td>\n",
       "      <td>-1.514654</td>\n",
       "      <td>...</td>\n",
       "      <td>0.247998</td>\n",
       "      <td>0.771679</td>\n",
       "      <td>0.909412</td>\n",
       "      <td>-0.689281</td>\n",
       "      <td>-0.327642</td>\n",
       "      <td>-0.139097</td>\n",
       "      <td>-0.055353</td>\n",
       "      <td>-0.059752</td>\n",
       "      <td>378.66</td>\n",
       "      <td>0</td>\n",
       "    </tr>\n",
       "    <tr>\n",
       "      <th>3</th>\n",
       "      <td>1.0</td>\n",
       "      <td>-0.966272</td>\n",
       "      <td>-0.185226</td>\n",
       "      <td>1.792993</td>\n",
       "      <td>-0.863291</td>\n",
       "      <td>-0.010309</td>\n",
       "      <td>1.247203</td>\n",
       "      <td>0.237609</td>\n",
       "      <td>0.377436</td>\n",
       "      <td>-1.387024</td>\n",
       "      <td>...</td>\n",
       "      <td>-0.108300</td>\n",
       "      <td>0.005274</td>\n",
       "      <td>-0.190321</td>\n",
       "      <td>-1.175575</td>\n",
       "      <td>0.647376</td>\n",
       "      <td>-0.221929</td>\n",
       "      <td>0.062723</td>\n",
       "      <td>0.061458</td>\n",
       "      <td>123.50</td>\n",
       "      <td>0</td>\n",
       "    </tr>\n",
       "    <tr>\n",
       "      <th>4</th>\n",
       "      <td>2.0</td>\n",
       "      <td>-1.158233</td>\n",
       "      <td>0.877737</td>\n",
       "      <td>1.548718</td>\n",
       "      <td>0.403034</td>\n",
       "      <td>-0.407193</td>\n",
       "      <td>0.095921</td>\n",
       "      <td>0.592941</td>\n",
       "      <td>-0.270533</td>\n",
       "      <td>0.817739</td>\n",
       "      <td>...</td>\n",
       "      <td>-0.009431</td>\n",
       "      <td>0.798278</td>\n",
       "      <td>-0.137458</td>\n",
       "      <td>0.141267</td>\n",
       "      <td>-0.206010</td>\n",
       "      <td>0.502292</td>\n",
       "      <td>0.219422</td>\n",
       "      <td>0.215153</td>\n",
       "      <td>69.99</td>\n",
       "      <td>0</td>\n",
       "    </tr>\n",
       "  </tbody>\n",
       "</table>\n",
       "<p>5 rows × 31 columns</p>\n",
       "</div>"
      ],
      "text/plain": [
       "   Time        V1        V2        V3        V4        V5        V6        V7  \\\n",
       "0   0.0 -1.359807 -0.072781  2.536347  1.378155 -0.338321  0.462388  0.239599   \n",
       "1   0.0  1.191857  0.266151  0.166480  0.448154  0.060018 -0.082361 -0.078803   \n",
       "2   1.0 -1.358354 -1.340163  1.773209  0.379780 -0.503198  1.800499  0.791461   \n",
       "3   1.0 -0.966272 -0.185226  1.792993 -0.863291 -0.010309  1.247203  0.237609   \n",
       "4   2.0 -1.158233  0.877737  1.548718  0.403034 -0.407193  0.095921  0.592941   \n",
       "\n",
       "         V8        V9  ...       V21       V22       V23       V24       V25  \\\n",
       "0  0.098698  0.363787  ... -0.018307  0.277838 -0.110474  0.066928  0.128539   \n",
       "1  0.085102 -0.255425  ... -0.225775 -0.638672  0.101288 -0.339846  0.167170   \n",
       "2  0.247676 -1.514654  ...  0.247998  0.771679  0.909412 -0.689281 -0.327642   \n",
       "3  0.377436 -1.387024  ... -0.108300  0.005274 -0.190321 -1.175575  0.647376   \n",
       "4 -0.270533  0.817739  ... -0.009431  0.798278 -0.137458  0.141267 -0.206010   \n",
       "\n",
       "        V26       V27       V28  Amount  Class  \n",
       "0 -0.189115  0.133558 -0.021053  149.62      0  \n",
       "1  0.125895 -0.008983  0.014724    2.69      0  \n",
       "2 -0.139097 -0.055353 -0.059752  378.66      0  \n",
       "3 -0.221929  0.062723  0.061458  123.50      0  \n",
       "4  0.502292  0.219422  0.215153   69.99      0  \n",
       "\n",
       "[5 rows x 31 columns]"
      ]
     },
     "execution_count": 4,
     "metadata": {},
     "output_type": "execute_result"
    }
   ],
   "source": [
    "credit_card_data.head()"
   ]
  },
  {
   "cell_type": "code",
   "execution_count": 5,
   "id": "1867d267",
   "metadata": {
    "execution": {
     "iopub.execute_input": "2022-11-06T09:16:15.392481Z",
     "iopub.status.busy": "2022-11-06T09:16:15.391804Z",
     "iopub.status.idle": "2022-11-06T09:16:15.420534Z",
     "shell.execute_reply": "2022-11-06T09:16:15.419106Z"
    },
    "papermill": {
     "duration": 0.04135,
     "end_time": "2022-11-06T09:16:15.423015",
     "exception": false,
     "start_time": "2022-11-06T09:16:15.381665",
     "status": "completed"
    },
    "tags": []
   },
   "outputs": [
    {
     "data": {
      "text/plain": [
       "Time      0\n",
       "V1        0\n",
       "V2        0\n",
       "V3        0\n",
       "V4        0\n",
       "V5        0\n",
       "V6        0\n",
       "V7        0\n",
       "V8        0\n",
       "V9        0\n",
       "V10       0\n",
       "V11       0\n",
       "V12       0\n",
       "V13       0\n",
       "V14       0\n",
       "V15       0\n",
       "V16       0\n",
       "V17       0\n",
       "V18       0\n",
       "V19       0\n",
       "V20       0\n",
       "V21       0\n",
       "V22       0\n",
       "V23       0\n",
       "V24       0\n",
       "V25       0\n",
       "V26       0\n",
       "V27       0\n",
       "V28       0\n",
       "Amount    0\n",
       "Class     0\n",
       "dtype: int64"
      ]
     },
     "execution_count": 5,
     "metadata": {},
     "output_type": "execute_result"
    }
   ],
   "source": [
    "#checking the number of missing values in each column\n",
    "credit_card_data.isnull().sum()"
   ]
  },
  {
   "cell_type": "code",
   "execution_count": 6,
   "id": "df9a1bc3",
   "metadata": {
    "execution": {
     "iopub.execute_input": "2022-11-06T09:16:15.443077Z",
     "iopub.status.busy": "2022-11-06T09:16:15.442623Z",
     "iopub.status.idle": "2022-11-06T09:16:15.465737Z",
     "shell.execute_reply": "2022-11-06T09:16:15.464474Z"
    },
    "papermill": {
     "duration": 0.036847,
     "end_time": "2022-11-06T09:16:15.468793",
     "exception": false,
     "start_time": "2022-11-06T09:16:15.431946",
     "status": "completed"
    },
    "tags": []
   },
   "outputs": [
    {
     "data": {
      "text/plain": [
       "0    284315\n",
       "1       492\n",
       "Name: Class, dtype: int64"
      ]
     },
     "execution_count": 6,
     "metadata": {},
     "output_type": "execute_result"
    }
   ],
   "source": [
    "#distribution of legit transactions and fraudulent transactions\n",
    "credit_card_data['Class'].value_counts()"
   ]
  },
  {
   "cell_type": "markdown",
   "id": "2779e74e",
   "metadata": {
    "papermill": {
     "duration": 0.009699,
     "end_time": "2022-11-06T09:16:15.488606",
     "exception": false,
     "start_time": "2022-11-06T09:16:15.478907",
     "status": "completed"
    },
    "tags": []
   },
   "source": [
    "This dataset is highly unbalanced"
   ]
  },
  {
   "cell_type": "markdown",
   "id": "bef8596f",
   "metadata": {
    "papermill": {
     "duration": 0.009219,
     "end_time": "2022-11-06T09:16:15.507609",
     "exception": false,
     "start_time": "2022-11-06T09:16:15.498390",
     "status": "completed"
    },
    "tags": []
   },
   "source": [
    "0 --> Normal Transaction\n",
    "1 --> Fraudulent Transaction"
   ]
  },
  {
   "cell_type": "code",
   "execution_count": 7,
   "id": "c468b1e8",
   "metadata": {
    "execution": {
     "iopub.execute_input": "2022-11-06T09:16:15.528207Z",
     "iopub.status.busy": "2022-11-06T09:16:15.527794Z",
     "iopub.status.idle": "2022-11-06T09:16:15.597352Z",
     "shell.execute_reply": "2022-11-06T09:16:15.595827Z"
    },
    "papermill": {
     "duration": 0.083273,
     "end_time": "2022-11-06T09:16:15.600315",
     "exception": false,
     "start_time": "2022-11-06T09:16:15.517042",
     "status": "completed"
    },
    "tags": []
   },
   "outputs": [],
   "source": [
    "#Separating the data for analysis\n",
    "legit = credit_card_data[credit_card_data.Class == 0]\n",
    "fraud = credit_card_data[credit_card_data.Class == 1]"
   ]
  },
  {
   "cell_type": "code",
   "execution_count": 8,
   "id": "1e615d70",
   "metadata": {
    "execution": {
     "iopub.execute_input": "2022-11-06T09:16:15.620164Z",
     "iopub.status.busy": "2022-11-06T09:16:15.619768Z",
     "iopub.status.idle": "2022-11-06T09:16:15.625606Z",
     "shell.execute_reply": "2022-11-06T09:16:15.624344Z"
    },
    "papermill": {
     "duration": 0.019298,
     "end_time": "2022-11-06T09:16:15.628673",
     "exception": false,
     "start_time": "2022-11-06T09:16:15.609375",
     "status": "completed"
    },
    "tags": []
   },
   "outputs": [
    {
     "name": "stdout",
     "output_type": "stream",
     "text": [
      "(284315, 31)\n",
      "(492, 31)\n"
     ]
    }
   ],
   "source": [
    "print(legit.shape)\n",
    "print(fraud.shape)"
   ]
  },
  {
   "cell_type": "code",
   "execution_count": 9,
   "id": "078692aa",
   "metadata": {
    "execution": {
     "iopub.execute_input": "2022-11-06T09:16:15.649995Z",
     "iopub.status.busy": "2022-11-06T09:16:15.648914Z",
     "iopub.status.idle": "2022-11-06T09:16:15.676437Z",
     "shell.execute_reply": "2022-11-06T09:16:15.675231Z"
    },
    "papermill": {
     "duration": 0.040889,
     "end_time": "2022-11-06T09:16:15.678660",
     "exception": false,
     "start_time": "2022-11-06T09:16:15.637771",
     "status": "completed"
    },
    "tags": []
   },
   "outputs": [
    {
     "data": {
      "text/plain": [
       "count    284315.000000\n",
       "mean         88.291022\n",
       "std         250.105092\n",
       "min           0.000000\n",
       "25%           5.650000\n",
       "50%          22.000000\n",
       "75%          77.050000\n",
       "max       25691.160000\n",
       "Name: Amount, dtype: float64"
      ]
     },
     "execution_count": 9,
     "metadata": {},
     "output_type": "execute_result"
    }
   ],
   "source": [
    "#statistical measures ofthe data\n",
    "legit.Amount.describe()"
   ]
  },
  {
   "cell_type": "code",
   "execution_count": 10,
   "id": "514efffa",
   "metadata": {
    "execution": {
     "iopub.execute_input": "2022-11-06T09:16:15.699106Z",
     "iopub.status.busy": "2022-11-06T09:16:15.697869Z",
     "iopub.status.idle": "2022-11-06T09:16:15.710003Z",
     "shell.execute_reply": "2022-11-06T09:16:15.708648Z"
    },
    "papermill": {
     "duration": 0.024812,
     "end_time": "2022-11-06T09:16:15.712628",
     "exception": false,
     "start_time": "2022-11-06T09:16:15.687816",
     "status": "completed"
    },
    "tags": []
   },
   "outputs": [
    {
     "data": {
      "text/plain": [
       "count     492.000000\n",
       "mean      122.211321\n",
       "std       256.683288\n",
       "min         0.000000\n",
       "25%         1.000000\n",
       "50%         9.250000\n",
       "75%       105.890000\n",
       "max      2125.870000\n",
       "Name: Amount, dtype: float64"
      ]
     },
     "execution_count": 10,
     "metadata": {},
     "output_type": "execute_result"
    }
   ],
   "source": [
    "fraud.Amount.describe()"
   ]
  },
  {
   "cell_type": "code",
   "execution_count": 11,
   "id": "935ca8f7",
   "metadata": {
    "execution": {
     "iopub.execute_input": "2022-11-06T09:16:15.733586Z",
     "iopub.status.busy": "2022-11-06T09:16:15.732721Z",
     "iopub.status.idle": "2022-11-06T09:16:15.877819Z",
     "shell.execute_reply": "2022-11-06T09:16:15.876613Z"
    },
    "papermill": {
     "duration": 0.158801,
     "end_time": "2022-11-06T09:16:15.880667",
     "exception": false,
     "start_time": "2022-11-06T09:16:15.721866",
     "status": "completed"
    },
    "tags": []
   },
   "outputs": [
    {
     "data": {
      "text/html": [
       "<div>\n",
       "<style scoped>\n",
       "    .dataframe tbody tr th:only-of-type {\n",
       "        vertical-align: middle;\n",
       "    }\n",
       "\n",
       "    .dataframe tbody tr th {\n",
       "        vertical-align: top;\n",
       "    }\n",
       "\n",
       "    .dataframe thead th {\n",
       "        text-align: right;\n",
       "    }\n",
       "</style>\n",
       "<table border=\"1\" class=\"dataframe\">\n",
       "  <thead>\n",
       "    <tr style=\"text-align: right;\">\n",
       "      <th></th>\n",
       "      <th>Time</th>\n",
       "      <th>V1</th>\n",
       "      <th>V2</th>\n",
       "      <th>V3</th>\n",
       "      <th>V4</th>\n",
       "      <th>V5</th>\n",
       "      <th>V6</th>\n",
       "      <th>V7</th>\n",
       "      <th>V8</th>\n",
       "      <th>V9</th>\n",
       "      <th>...</th>\n",
       "      <th>V20</th>\n",
       "      <th>V21</th>\n",
       "      <th>V22</th>\n",
       "      <th>V23</th>\n",
       "      <th>V24</th>\n",
       "      <th>V25</th>\n",
       "      <th>V26</th>\n",
       "      <th>V27</th>\n",
       "      <th>V28</th>\n",
       "      <th>Amount</th>\n",
       "    </tr>\n",
       "    <tr>\n",
       "      <th>Class</th>\n",
       "      <th></th>\n",
       "      <th></th>\n",
       "      <th></th>\n",
       "      <th></th>\n",
       "      <th></th>\n",
       "      <th></th>\n",
       "      <th></th>\n",
       "      <th></th>\n",
       "      <th></th>\n",
       "      <th></th>\n",
       "      <th></th>\n",
       "      <th></th>\n",
       "      <th></th>\n",
       "      <th></th>\n",
       "      <th></th>\n",
       "      <th></th>\n",
       "      <th></th>\n",
       "      <th></th>\n",
       "      <th></th>\n",
       "      <th></th>\n",
       "      <th></th>\n",
       "    </tr>\n",
       "  </thead>\n",
       "  <tbody>\n",
       "    <tr>\n",
       "      <th>0</th>\n",
       "      <td>94838.202258</td>\n",
       "      <td>0.008258</td>\n",
       "      <td>-0.006271</td>\n",
       "      <td>0.012171</td>\n",
       "      <td>-0.007860</td>\n",
       "      <td>0.005453</td>\n",
       "      <td>0.002419</td>\n",
       "      <td>0.009637</td>\n",
       "      <td>-0.000987</td>\n",
       "      <td>0.004467</td>\n",
       "      <td>...</td>\n",
       "      <td>-0.000644</td>\n",
       "      <td>-0.001235</td>\n",
       "      <td>-0.000024</td>\n",
       "      <td>0.000070</td>\n",
       "      <td>0.000182</td>\n",
       "      <td>-0.000072</td>\n",
       "      <td>-0.000089</td>\n",
       "      <td>-0.000295</td>\n",
       "      <td>-0.000131</td>\n",
       "      <td>88.291022</td>\n",
       "    </tr>\n",
       "    <tr>\n",
       "      <th>1</th>\n",
       "      <td>80746.806911</td>\n",
       "      <td>-4.771948</td>\n",
       "      <td>3.623778</td>\n",
       "      <td>-7.033281</td>\n",
       "      <td>4.542029</td>\n",
       "      <td>-3.151225</td>\n",
       "      <td>-1.397737</td>\n",
       "      <td>-5.568731</td>\n",
       "      <td>0.570636</td>\n",
       "      <td>-2.581123</td>\n",
       "      <td>...</td>\n",
       "      <td>0.372319</td>\n",
       "      <td>0.713588</td>\n",
       "      <td>0.014049</td>\n",
       "      <td>-0.040308</td>\n",
       "      <td>-0.105130</td>\n",
       "      <td>0.041449</td>\n",
       "      <td>0.051648</td>\n",
       "      <td>0.170575</td>\n",
       "      <td>0.075667</td>\n",
       "      <td>122.211321</td>\n",
       "    </tr>\n",
       "  </tbody>\n",
       "</table>\n",
       "<p>2 rows × 30 columns</p>\n",
       "</div>"
      ],
      "text/plain": [
       "               Time        V1        V2        V3        V4        V5  \\\n",
       "Class                                                                   \n",
       "0      94838.202258  0.008258 -0.006271  0.012171 -0.007860  0.005453   \n",
       "1      80746.806911 -4.771948  3.623778 -7.033281  4.542029 -3.151225   \n",
       "\n",
       "             V6        V7        V8        V9  ...       V20       V21  \\\n",
       "Class                                          ...                       \n",
       "0      0.002419  0.009637 -0.000987  0.004467  ... -0.000644 -0.001235   \n",
       "1     -1.397737 -5.568731  0.570636 -2.581123  ...  0.372319  0.713588   \n",
       "\n",
       "            V22       V23       V24       V25       V26       V27       V28  \\\n",
       "Class                                                                         \n",
       "0     -0.000024  0.000070  0.000182 -0.000072 -0.000089 -0.000295 -0.000131   \n",
       "1      0.014049 -0.040308 -0.105130  0.041449  0.051648  0.170575  0.075667   \n",
       "\n",
       "           Amount  \n",
       "Class              \n",
       "0       88.291022  \n",
       "1      122.211321  \n",
       "\n",
       "[2 rows x 30 columns]"
      ]
     },
     "execution_count": 11,
     "metadata": {},
     "output_type": "execute_result"
    }
   ],
   "source": [
    "#compare the values for both transactions\n",
    "credit_card_data.groupby('Class').mean()"
   ]
  },
  {
   "cell_type": "markdown",
   "id": "5d91ff68",
   "metadata": {
    "papermill": {
     "duration": 0.009474,
     "end_time": "2022-11-06T09:16:15.900376",
     "exception": false,
     "start_time": "2022-11-06T09:16:15.890902",
     "status": "completed"
    },
    "tags": []
   },
   "source": [
    "Build a sample dataset containing similar distribution of normal transaction\n",
    "\n",
    "Number of Fraudulent transactions >-- 492 "
   ]
  },
  {
   "cell_type": "code",
   "execution_count": 12,
   "id": "56fb2c04",
   "metadata": {
    "execution": {
     "iopub.execute_input": "2022-11-06T09:16:15.921664Z",
     "iopub.status.busy": "2022-11-06T09:16:15.921253Z",
     "iopub.status.idle": "2022-11-06T09:16:15.935985Z",
     "shell.execute_reply": "2022-11-06T09:16:15.934591Z"
    },
    "papermill": {
     "duration": 0.029018,
     "end_time": "2022-11-06T09:16:15.939009",
     "exception": false,
     "start_time": "2022-11-06T09:16:15.909991",
     "status": "completed"
    },
    "tags": []
   },
   "outputs": [],
   "source": [
    "legit_sample = legit.sample(n=492)"
   ]
  },
  {
   "cell_type": "markdown",
   "id": "e3340229",
   "metadata": {
    "papermill": {
     "duration": 0.009136,
     "end_time": "2022-11-06T09:16:15.958537",
     "exception": false,
     "start_time": "2022-11-06T09:16:15.949401",
     "status": "completed"
    },
    "tags": []
   },
   "source": [
    "## Concatenating Two Dataframes"
   ]
  },
  {
   "cell_type": "code",
   "execution_count": 13,
   "id": "6059c823",
   "metadata": {
    "execution": {
     "iopub.execute_input": "2022-11-06T09:16:15.979663Z",
     "iopub.status.busy": "2022-11-06T09:16:15.979179Z",
     "iopub.status.idle": "2022-11-06T09:16:15.985705Z",
     "shell.execute_reply": "2022-11-06T09:16:15.984675Z"
    },
    "papermill": {
     "duration": 0.019969,
     "end_time": "2022-11-06T09:16:15.988403",
     "exception": false,
     "start_time": "2022-11-06T09:16:15.968434",
     "status": "completed"
    },
    "tags": []
   },
   "outputs": [],
   "source": [
    "new_dataset = pd.concat([legit_sample, fraud], axis = 0)"
   ]
  },
  {
   "cell_type": "code",
   "execution_count": 14,
   "id": "1b39e761",
   "metadata": {
    "execution": {
     "iopub.execute_input": "2022-11-06T09:16:16.010047Z",
     "iopub.status.busy": "2022-11-06T09:16:16.009625Z",
     "iopub.status.idle": "2022-11-06T09:16:16.037669Z",
     "shell.execute_reply": "2022-11-06T09:16:16.036368Z"
    },
    "papermill": {
     "duration": 0.041547,
     "end_time": "2022-11-06T09:16:16.040187",
     "exception": false,
     "start_time": "2022-11-06T09:16:15.998640",
     "status": "completed"
    },
    "tags": []
   },
   "outputs": [
    {
     "data": {
      "text/html": [
       "<div>\n",
       "<style scoped>\n",
       "    .dataframe tbody tr th:only-of-type {\n",
       "        vertical-align: middle;\n",
       "    }\n",
       "\n",
       "    .dataframe tbody tr th {\n",
       "        vertical-align: top;\n",
       "    }\n",
       "\n",
       "    .dataframe thead th {\n",
       "        text-align: right;\n",
       "    }\n",
       "</style>\n",
       "<table border=\"1\" class=\"dataframe\">\n",
       "  <thead>\n",
       "    <tr style=\"text-align: right;\">\n",
       "      <th></th>\n",
       "      <th>Time</th>\n",
       "      <th>V1</th>\n",
       "      <th>V2</th>\n",
       "      <th>V3</th>\n",
       "      <th>V4</th>\n",
       "      <th>V5</th>\n",
       "      <th>V6</th>\n",
       "      <th>V7</th>\n",
       "      <th>V8</th>\n",
       "      <th>V9</th>\n",
       "      <th>...</th>\n",
       "      <th>V21</th>\n",
       "      <th>V22</th>\n",
       "      <th>V23</th>\n",
       "      <th>V24</th>\n",
       "      <th>V25</th>\n",
       "      <th>V26</th>\n",
       "      <th>V27</th>\n",
       "      <th>V28</th>\n",
       "      <th>Amount</th>\n",
       "      <th>Class</th>\n",
       "    </tr>\n",
       "  </thead>\n",
       "  <tbody>\n",
       "    <tr>\n",
       "      <th>164864</th>\n",
       "      <td>117043.0</td>\n",
       "      <td>2.073377</td>\n",
       "      <td>-0.110134</td>\n",
       "      <td>-1.842617</td>\n",
       "      <td>0.503376</td>\n",
       "      <td>0.378696</td>\n",
       "      <td>-0.911918</td>\n",
       "      <td>0.388167</td>\n",
       "      <td>-0.279675</td>\n",
       "      <td>0.564404</td>\n",
       "      <td>...</td>\n",
       "      <td>-0.050234</td>\n",
       "      <td>-0.064164</td>\n",
       "      <td>0.095702</td>\n",
       "      <td>0.674315</td>\n",
       "      <td>0.199825</td>\n",
       "      <td>0.354138</td>\n",
       "      <td>-0.099786</td>\n",
       "      <td>-0.068899</td>\n",
       "      <td>17.99</td>\n",
       "      <td>0</td>\n",
       "    </tr>\n",
       "    <tr>\n",
       "      <th>236896</th>\n",
       "      <td>149007.0</td>\n",
       "      <td>1.989319</td>\n",
       "      <td>-0.703672</td>\n",
       "      <td>-0.732641</td>\n",
       "      <td>-0.101320</td>\n",
       "      <td>-1.092949</td>\n",
       "      <td>-1.657418</td>\n",
       "      <td>-0.086310</td>\n",
       "      <td>-0.468118</td>\n",
       "      <td>-0.668942</td>\n",
       "      <td>...</td>\n",
       "      <td>-0.549392</td>\n",
       "      <td>-1.100406</td>\n",
       "      <td>0.471644</td>\n",
       "      <td>0.916433</td>\n",
       "      <td>-0.553162</td>\n",
       "      <td>0.247103</td>\n",
       "      <td>-0.060134</td>\n",
       "      <td>-0.034967</td>\n",
       "      <td>67.75</td>\n",
       "      <td>0</td>\n",
       "    </tr>\n",
       "    <tr>\n",
       "      <th>117471</th>\n",
       "      <td>74688.0</td>\n",
       "      <td>0.809104</td>\n",
       "      <td>-1.191411</td>\n",
       "      <td>1.761850</td>\n",
       "      <td>0.808496</td>\n",
       "      <td>-1.861199</td>\n",
       "      <td>0.480630</td>\n",
       "      <td>-1.067195</td>\n",
       "      <td>0.228677</td>\n",
       "      <td>1.873965</td>\n",
       "      <td>...</td>\n",
       "      <td>0.145984</td>\n",
       "      <td>0.617094</td>\n",
       "      <td>-0.260421</td>\n",
       "      <td>0.558980</td>\n",
       "      <td>0.267996</td>\n",
       "      <td>1.230809</td>\n",
       "      <td>-0.004451</td>\n",
       "      <td>0.052702</td>\n",
       "      <td>178.95</td>\n",
       "      <td>0</td>\n",
       "    </tr>\n",
       "    <tr>\n",
       "      <th>163219</th>\n",
       "      <td>115751.0</td>\n",
       "      <td>-4.827705</td>\n",
       "      <td>4.009485</td>\n",
       "      <td>-1.461594</td>\n",
       "      <td>-1.905981</td>\n",
       "      <td>-0.332175</td>\n",
       "      <td>-1.098958</td>\n",
       "      <td>1.408481</td>\n",
       "      <td>-0.463986</td>\n",
       "      <td>4.710447</td>\n",
       "      <td>...</td>\n",
       "      <td>-1.270520</td>\n",
       "      <td>-0.757992</td>\n",
       "      <td>0.013553</td>\n",
       "      <td>-0.059960</td>\n",
       "      <td>0.145109</td>\n",
       "      <td>-0.152783</td>\n",
       "      <td>-0.565190</td>\n",
       "      <td>-1.867803</td>\n",
       "      <td>8.99</td>\n",
       "      <td>0</td>\n",
       "    </tr>\n",
       "    <tr>\n",
       "      <th>161648</th>\n",
       "      <td>114387.0</td>\n",
       "      <td>2.188882</td>\n",
       "      <td>-1.522485</td>\n",
       "      <td>-1.317616</td>\n",
       "      <td>-1.800534</td>\n",
       "      <td>-0.394500</td>\n",
       "      <td>0.963214</td>\n",
       "      <td>-1.290503</td>\n",
       "      <td>0.242091</td>\n",
       "      <td>-1.181841</td>\n",
       "      <td>...</td>\n",
       "      <td>-0.115405</td>\n",
       "      <td>0.228371</td>\n",
       "      <td>0.300122</td>\n",
       "      <td>-0.589160</td>\n",
       "      <td>-0.330549</td>\n",
       "      <td>-0.082227</td>\n",
       "      <td>0.049169</td>\n",
       "      <td>-0.057649</td>\n",
       "      <td>25.00</td>\n",
       "      <td>0</td>\n",
       "    </tr>\n",
       "  </tbody>\n",
       "</table>\n",
       "<p>5 rows × 31 columns</p>\n",
       "</div>"
      ],
      "text/plain": [
       "            Time        V1        V2        V3        V4        V5        V6  \\\n",
       "164864  117043.0  2.073377 -0.110134 -1.842617  0.503376  0.378696 -0.911918   \n",
       "236896  149007.0  1.989319 -0.703672 -0.732641 -0.101320 -1.092949 -1.657418   \n",
       "117471   74688.0  0.809104 -1.191411  1.761850  0.808496 -1.861199  0.480630   \n",
       "163219  115751.0 -4.827705  4.009485 -1.461594 -1.905981 -0.332175 -1.098958   \n",
       "161648  114387.0  2.188882 -1.522485 -1.317616 -1.800534 -0.394500  0.963214   \n",
       "\n",
       "              V7        V8        V9  ...       V21       V22       V23  \\\n",
       "164864  0.388167 -0.279675  0.564404  ... -0.050234 -0.064164  0.095702   \n",
       "236896 -0.086310 -0.468118 -0.668942  ... -0.549392 -1.100406  0.471644   \n",
       "117471 -1.067195  0.228677  1.873965  ...  0.145984  0.617094 -0.260421   \n",
       "163219  1.408481 -0.463986  4.710447  ... -1.270520 -0.757992  0.013553   \n",
       "161648 -1.290503  0.242091 -1.181841  ... -0.115405  0.228371  0.300122   \n",
       "\n",
       "             V24       V25       V26       V27       V28  Amount  Class  \n",
       "164864  0.674315  0.199825  0.354138 -0.099786 -0.068899   17.99      0  \n",
       "236896  0.916433 -0.553162  0.247103 -0.060134 -0.034967   67.75      0  \n",
       "117471  0.558980  0.267996  1.230809 -0.004451  0.052702  178.95      0  \n",
       "163219 -0.059960  0.145109 -0.152783 -0.565190 -1.867803    8.99      0  \n",
       "161648 -0.589160 -0.330549 -0.082227  0.049169 -0.057649   25.00      0  \n",
       "\n",
       "[5 rows x 31 columns]"
      ]
     },
     "execution_count": 14,
     "metadata": {},
     "output_type": "execute_result"
    }
   ],
   "source": [
    "new_dataset.head()"
   ]
  },
  {
   "cell_type": "code",
   "execution_count": 15,
   "id": "594d52cc",
   "metadata": {
    "execution": {
     "iopub.execute_input": "2022-11-06T09:16:16.062732Z",
     "iopub.status.busy": "2022-11-06T09:16:16.062342Z",
     "iopub.status.idle": "2022-11-06T09:16:16.088046Z",
     "shell.execute_reply": "2022-11-06T09:16:16.087208Z"
    },
    "papermill": {
     "duration": 0.040185,
     "end_time": "2022-11-06T09:16:16.090821",
     "exception": false,
     "start_time": "2022-11-06T09:16:16.050636",
     "status": "completed"
    },
    "tags": []
   },
   "outputs": [
    {
     "data": {
      "text/html": [
       "<div>\n",
       "<style scoped>\n",
       "    .dataframe tbody tr th:only-of-type {\n",
       "        vertical-align: middle;\n",
       "    }\n",
       "\n",
       "    .dataframe tbody tr th {\n",
       "        vertical-align: top;\n",
       "    }\n",
       "\n",
       "    .dataframe thead th {\n",
       "        text-align: right;\n",
       "    }\n",
       "</style>\n",
       "<table border=\"1\" class=\"dataframe\">\n",
       "  <thead>\n",
       "    <tr style=\"text-align: right;\">\n",
       "      <th></th>\n",
       "      <th>Time</th>\n",
       "      <th>V1</th>\n",
       "      <th>V2</th>\n",
       "      <th>V3</th>\n",
       "      <th>V4</th>\n",
       "      <th>V5</th>\n",
       "      <th>V6</th>\n",
       "      <th>V7</th>\n",
       "      <th>V8</th>\n",
       "      <th>V9</th>\n",
       "      <th>...</th>\n",
       "      <th>V21</th>\n",
       "      <th>V22</th>\n",
       "      <th>V23</th>\n",
       "      <th>V24</th>\n",
       "      <th>V25</th>\n",
       "      <th>V26</th>\n",
       "      <th>V27</th>\n",
       "      <th>V28</th>\n",
       "      <th>Amount</th>\n",
       "      <th>Class</th>\n",
       "    </tr>\n",
       "  </thead>\n",
       "  <tbody>\n",
       "    <tr>\n",
       "      <th>279863</th>\n",
       "      <td>169142.0</td>\n",
       "      <td>-1.927883</td>\n",
       "      <td>1.125653</td>\n",
       "      <td>-4.518331</td>\n",
       "      <td>1.749293</td>\n",
       "      <td>-1.566487</td>\n",
       "      <td>-2.010494</td>\n",
       "      <td>-0.882850</td>\n",
       "      <td>0.697211</td>\n",
       "      <td>-2.064945</td>\n",
       "      <td>...</td>\n",
       "      <td>0.778584</td>\n",
       "      <td>-0.319189</td>\n",
       "      <td>0.639419</td>\n",
       "      <td>-0.294885</td>\n",
       "      <td>0.537503</td>\n",
       "      <td>0.788395</td>\n",
       "      <td>0.292680</td>\n",
       "      <td>0.147968</td>\n",
       "      <td>390.00</td>\n",
       "      <td>1</td>\n",
       "    </tr>\n",
       "    <tr>\n",
       "      <th>280143</th>\n",
       "      <td>169347.0</td>\n",
       "      <td>1.378559</td>\n",
       "      <td>1.289381</td>\n",
       "      <td>-5.004247</td>\n",
       "      <td>1.411850</td>\n",
       "      <td>0.442581</td>\n",
       "      <td>-1.326536</td>\n",
       "      <td>-1.413170</td>\n",
       "      <td>0.248525</td>\n",
       "      <td>-1.127396</td>\n",
       "      <td>...</td>\n",
       "      <td>0.370612</td>\n",
       "      <td>0.028234</td>\n",
       "      <td>-0.145640</td>\n",
       "      <td>-0.081049</td>\n",
       "      <td>0.521875</td>\n",
       "      <td>0.739467</td>\n",
       "      <td>0.389152</td>\n",
       "      <td>0.186637</td>\n",
       "      <td>0.76</td>\n",
       "      <td>1</td>\n",
       "    </tr>\n",
       "    <tr>\n",
       "      <th>280149</th>\n",
       "      <td>169351.0</td>\n",
       "      <td>-0.676143</td>\n",
       "      <td>1.126366</td>\n",
       "      <td>-2.213700</td>\n",
       "      <td>0.468308</td>\n",
       "      <td>-1.120541</td>\n",
       "      <td>-0.003346</td>\n",
       "      <td>-2.234739</td>\n",
       "      <td>1.210158</td>\n",
       "      <td>-0.652250</td>\n",
       "      <td>...</td>\n",
       "      <td>0.751826</td>\n",
       "      <td>0.834108</td>\n",
       "      <td>0.190944</td>\n",
       "      <td>0.032070</td>\n",
       "      <td>-0.739695</td>\n",
       "      <td>0.471111</td>\n",
       "      <td>0.385107</td>\n",
       "      <td>0.194361</td>\n",
       "      <td>77.89</td>\n",
       "      <td>1</td>\n",
       "    </tr>\n",
       "    <tr>\n",
       "      <th>281144</th>\n",
       "      <td>169966.0</td>\n",
       "      <td>-3.113832</td>\n",
       "      <td>0.585864</td>\n",
       "      <td>-5.399730</td>\n",
       "      <td>1.817092</td>\n",
       "      <td>-0.840618</td>\n",
       "      <td>-2.943548</td>\n",
       "      <td>-2.208002</td>\n",
       "      <td>1.058733</td>\n",
       "      <td>-1.632333</td>\n",
       "      <td>...</td>\n",
       "      <td>0.583276</td>\n",
       "      <td>-0.269209</td>\n",
       "      <td>-0.456108</td>\n",
       "      <td>-0.183659</td>\n",
       "      <td>-0.328168</td>\n",
       "      <td>0.606116</td>\n",
       "      <td>0.884876</td>\n",
       "      <td>-0.253700</td>\n",
       "      <td>245.00</td>\n",
       "      <td>1</td>\n",
       "    </tr>\n",
       "    <tr>\n",
       "      <th>281674</th>\n",
       "      <td>170348.0</td>\n",
       "      <td>1.991976</td>\n",
       "      <td>0.158476</td>\n",
       "      <td>-2.583441</td>\n",
       "      <td>0.408670</td>\n",
       "      <td>1.151147</td>\n",
       "      <td>-0.096695</td>\n",
       "      <td>0.223050</td>\n",
       "      <td>-0.068384</td>\n",
       "      <td>0.577829</td>\n",
       "      <td>...</td>\n",
       "      <td>-0.164350</td>\n",
       "      <td>-0.295135</td>\n",
       "      <td>-0.072173</td>\n",
       "      <td>-0.450261</td>\n",
       "      <td>0.313267</td>\n",
       "      <td>-0.289617</td>\n",
       "      <td>0.002988</td>\n",
       "      <td>-0.015309</td>\n",
       "      <td>42.53</td>\n",
       "      <td>1</td>\n",
       "    </tr>\n",
       "  </tbody>\n",
       "</table>\n",
       "<p>5 rows × 31 columns</p>\n",
       "</div>"
      ],
      "text/plain": [
       "            Time        V1        V2        V3        V4        V5        V6  \\\n",
       "279863  169142.0 -1.927883  1.125653 -4.518331  1.749293 -1.566487 -2.010494   \n",
       "280143  169347.0  1.378559  1.289381 -5.004247  1.411850  0.442581 -1.326536   \n",
       "280149  169351.0 -0.676143  1.126366 -2.213700  0.468308 -1.120541 -0.003346   \n",
       "281144  169966.0 -3.113832  0.585864 -5.399730  1.817092 -0.840618 -2.943548   \n",
       "281674  170348.0  1.991976  0.158476 -2.583441  0.408670  1.151147 -0.096695   \n",
       "\n",
       "              V7        V8        V9  ...       V21       V22       V23  \\\n",
       "279863 -0.882850  0.697211 -2.064945  ...  0.778584 -0.319189  0.639419   \n",
       "280143 -1.413170  0.248525 -1.127396  ...  0.370612  0.028234 -0.145640   \n",
       "280149 -2.234739  1.210158 -0.652250  ...  0.751826  0.834108  0.190944   \n",
       "281144 -2.208002  1.058733 -1.632333  ...  0.583276 -0.269209 -0.456108   \n",
       "281674  0.223050 -0.068384  0.577829  ... -0.164350 -0.295135 -0.072173   \n",
       "\n",
       "             V24       V25       V26       V27       V28  Amount  Class  \n",
       "279863 -0.294885  0.537503  0.788395  0.292680  0.147968  390.00      1  \n",
       "280143 -0.081049  0.521875  0.739467  0.389152  0.186637    0.76      1  \n",
       "280149  0.032070 -0.739695  0.471111  0.385107  0.194361   77.89      1  \n",
       "281144 -0.183659 -0.328168  0.606116  0.884876 -0.253700  245.00      1  \n",
       "281674 -0.450261  0.313267 -0.289617  0.002988 -0.015309   42.53      1  \n",
       "\n",
       "[5 rows x 31 columns]"
      ]
     },
     "execution_count": 15,
     "metadata": {},
     "output_type": "execute_result"
    }
   ],
   "source": [
    "new_dataset.tail()"
   ]
  },
  {
   "cell_type": "code",
   "execution_count": 16,
   "id": "705be301",
   "metadata": {
    "execution": {
     "iopub.execute_input": "2022-11-06T09:16:16.114387Z",
     "iopub.status.busy": "2022-11-06T09:16:16.113892Z",
     "iopub.status.idle": "2022-11-06T09:16:16.123055Z",
     "shell.execute_reply": "2022-11-06T09:16:16.121669Z"
    },
    "papermill": {
     "duration": 0.023866,
     "end_time": "2022-11-06T09:16:16.125628",
     "exception": false,
     "start_time": "2022-11-06T09:16:16.101762",
     "status": "completed"
    },
    "tags": []
   },
   "outputs": [
    {
     "data": {
      "text/plain": [
       "0    492\n",
       "1    492\n",
       "Name: Class, dtype: int64"
      ]
     },
     "execution_count": 16,
     "metadata": {},
     "output_type": "execute_result"
    }
   ],
   "source": [
    "new_dataset['Class'].value_counts()"
   ]
  },
  {
   "cell_type": "code",
   "execution_count": 17,
   "id": "e2b573ca",
   "metadata": {
    "execution": {
     "iopub.execute_input": "2022-11-06T09:16:16.150019Z",
     "iopub.status.busy": "2022-11-06T09:16:16.149207Z",
     "iopub.status.idle": "2022-11-06T09:16:16.175909Z",
     "shell.execute_reply": "2022-11-06T09:16:16.174679Z"
    },
    "papermill": {
     "duration": 0.04197,
     "end_time": "2022-11-06T09:16:16.178459",
     "exception": false,
     "start_time": "2022-11-06T09:16:16.136489",
     "status": "completed"
    },
    "tags": []
   },
   "outputs": [
    {
     "data": {
      "text/html": [
       "<div>\n",
       "<style scoped>\n",
       "    .dataframe tbody tr th:only-of-type {\n",
       "        vertical-align: middle;\n",
       "    }\n",
       "\n",
       "    .dataframe tbody tr th {\n",
       "        vertical-align: top;\n",
       "    }\n",
       "\n",
       "    .dataframe thead th {\n",
       "        text-align: right;\n",
       "    }\n",
       "</style>\n",
       "<table border=\"1\" class=\"dataframe\">\n",
       "  <thead>\n",
       "    <tr style=\"text-align: right;\">\n",
       "      <th></th>\n",
       "      <th>Time</th>\n",
       "      <th>V1</th>\n",
       "      <th>V2</th>\n",
       "      <th>V3</th>\n",
       "      <th>V4</th>\n",
       "      <th>V5</th>\n",
       "      <th>V6</th>\n",
       "      <th>V7</th>\n",
       "      <th>V8</th>\n",
       "      <th>V9</th>\n",
       "      <th>...</th>\n",
       "      <th>V20</th>\n",
       "      <th>V21</th>\n",
       "      <th>V22</th>\n",
       "      <th>V23</th>\n",
       "      <th>V24</th>\n",
       "      <th>V25</th>\n",
       "      <th>V26</th>\n",
       "      <th>V27</th>\n",
       "      <th>V28</th>\n",
       "      <th>Amount</th>\n",
       "    </tr>\n",
       "    <tr>\n",
       "      <th>Class</th>\n",
       "      <th></th>\n",
       "      <th></th>\n",
       "      <th></th>\n",
       "      <th></th>\n",
       "      <th></th>\n",
       "      <th></th>\n",
       "      <th></th>\n",
       "      <th></th>\n",
       "      <th></th>\n",
       "      <th></th>\n",
       "      <th></th>\n",
       "      <th></th>\n",
       "      <th></th>\n",
       "      <th></th>\n",
       "      <th></th>\n",
       "      <th></th>\n",
       "      <th></th>\n",
       "      <th></th>\n",
       "      <th></th>\n",
       "      <th></th>\n",
       "      <th></th>\n",
       "    </tr>\n",
       "  </thead>\n",
       "  <tbody>\n",
       "    <tr>\n",
       "      <th>0</th>\n",
       "      <td>95454.544715</td>\n",
       "      <td>-0.127137</td>\n",
       "      <td>-0.408819</td>\n",
       "      <td>-0.132477</td>\n",
       "      <td>0.022878</td>\n",
       "      <td>0.051296</td>\n",
       "      <td>-0.026255</td>\n",
       "      <td>-0.148586</td>\n",
       "      <td>0.051434</td>\n",
       "      <td>0.035399</td>\n",
       "      <td>...</td>\n",
       "      <td>0.011434</td>\n",
       "      <td>-0.028570</td>\n",
       "      <td>0.037405</td>\n",
       "      <td>-0.022710</td>\n",
       "      <td>0.002465</td>\n",
       "      <td>-0.002943</td>\n",
       "      <td>0.037777</td>\n",
       "      <td>-0.036898</td>\n",
       "      <td>0.038912</td>\n",
       "      <td>102.527073</td>\n",
       "    </tr>\n",
       "    <tr>\n",
       "      <th>1</th>\n",
       "      <td>80746.806911</td>\n",
       "      <td>-4.771948</td>\n",
       "      <td>3.623778</td>\n",
       "      <td>-7.033281</td>\n",
       "      <td>4.542029</td>\n",
       "      <td>-3.151225</td>\n",
       "      <td>-1.397737</td>\n",
       "      <td>-5.568731</td>\n",
       "      <td>0.570636</td>\n",
       "      <td>-2.581123</td>\n",
       "      <td>...</td>\n",
       "      <td>0.372319</td>\n",
       "      <td>0.713588</td>\n",
       "      <td>0.014049</td>\n",
       "      <td>-0.040308</td>\n",
       "      <td>-0.105130</td>\n",
       "      <td>0.041449</td>\n",
       "      <td>0.051648</td>\n",
       "      <td>0.170575</td>\n",
       "      <td>0.075667</td>\n",
       "      <td>122.211321</td>\n",
       "    </tr>\n",
       "  </tbody>\n",
       "</table>\n",
       "<p>2 rows × 30 columns</p>\n",
       "</div>"
      ],
      "text/plain": [
       "               Time        V1        V2        V3        V4        V5  \\\n",
       "Class                                                                   \n",
       "0      95454.544715 -0.127137 -0.408819 -0.132477  0.022878  0.051296   \n",
       "1      80746.806911 -4.771948  3.623778 -7.033281  4.542029 -3.151225   \n",
       "\n",
       "             V6        V7        V8        V9  ...       V20       V21  \\\n",
       "Class                                          ...                       \n",
       "0     -0.026255 -0.148586  0.051434  0.035399  ...  0.011434 -0.028570   \n",
       "1     -1.397737 -5.568731  0.570636 -2.581123  ...  0.372319  0.713588   \n",
       "\n",
       "            V22       V23       V24       V25       V26       V27       V28  \\\n",
       "Class                                                                         \n",
       "0      0.037405 -0.022710  0.002465 -0.002943  0.037777 -0.036898  0.038912   \n",
       "1      0.014049 -0.040308 -0.105130  0.041449  0.051648  0.170575  0.075667   \n",
       "\n",
       "           Amount  \n",
       "Class              \n",
       "0      102.527073  \n",
       "1      122.211321  \n",
       "\n",
       "[2 rows x 30 columns]"
      ]
     },
     "execution_count": 17,
     "metadata": {},
     "output_type": "execute_result"
    }
   ],
   "source": [
    "new_dataset.groupby('Class').mean()"
   ]
  },
  {
   "cell_type": "markdown",
   "id": "b6dd6b0a",
   "metadata": {
    "papermill": {
     "duration": 0.00994,
     "end_time": "2022-11-06T09:16:16.199005",
     "exception": false,
     "start_time": "2022-11-06T09:16:16.189065",
     "status": "completed"
    },
    "tags": []
   },
   "source": [
    "## Splitting data into features and targets"
   ]
  },
  {
   "cell_type": "code",
   "execution_count": 18,
   "id": "58c85789",
   "metadata": {
    "execution": {
     "iopub.execute_input": "2022-11-06T09:16:16.223085Z",
     "iopub.status.busy": "2022-11-06T09:16:16.221891Z",
     "iopub.status.idle": "2022-11-06T09:16:16.228655Z",
     "shell.execute_reply": "2022-11-06T09:16:16.227311Z"
    },
    "papermill": {
     "duration": 0.021267,
     "end_time": "2022-11-06T09:16:16.231016",
     "exception": false,
     "start_time": "2022-11-06T09:16:16.209749",
     "status": "completed"
    },
    "tags": []
   },
   "outputs": [],
   "source": [
    "X = new_dataset.drop(columns = 'Class', axis = 1)\n",
    "Y = new_dataset['Class']"
   ]
  },
  {
   "cell_type": "code",
   "execution_count": 19,
   "id": "7ccd9413",
   "metadata": {
    "execution": {
     "iopub.execute_input": "2022-11-06T09:16:16.254716Z",
     "iopub.status.busy": "2022-11-06T09:16:16.253182Z",
     "iopub.status.idle": "2022-11-06T09:16:16.272407Z",
     "shell.execute_reply": "2022-11-06T09:16:16.271141Z"
    },
    "papermill": {
     "duration": 0.033462,
     "end_time": "2022-11-06T09:16:16.274946",
     "exception": false,
     "start_time": "2022-11-06T09:16:16.241484",
     "status": "completed"
    },
    "tags": []
   },
   "outputs": [
    {
     "name": "stdout",
     "output_type": "stream",
     "text": [
      "            Time        V1        V2        V3        V4        V5        V6  \\\n",
      "164864  117043.0  2.073377 -0.110134 -1.842617  0.503376  0.378696 -0.911918   \n",
      "236896  149007.0  1.989319 -0.703672 -0.732641 -0.101320 -1.092949 -1.657418   \n",
      "117471   74688.0  0.809104 -1.191411  1.761850  0.808496 -1.861199  0.480630   \n",
      "163219  115751.0 -4.827705  4.009485 -1.461594 -1.905981 -0.332175 -1.098958   \n",
      "161648  114387.0  2.188882 -1.522485 -1.317616 -1.800534 -0.394500  0.963214   \n",
      "...          ...       ...       ...       ...       ...       ...       ...   \n",
      "279863  169142.0 -1.927883  1.125653 -4.518331  1.749293 -1.566487 -2.010494   \n",
      "280143  169347.0  1.378559  1.289381 -5.004247  1.411850  0.442581 -1.326536   \n",
      "280149  169351.0 -0.676143  1.126366 -2.213700  0.468308 -1.120541 -0.003346   \n",
      "281144  169966.0 -3.113832  0.585864 -5.399730  1.817092 -0.840618 -2.943548   \n",
      "281674  170348.0  1.991976  0.158476 -2.583441  0.408670  1.151147 -0.096695   \n",
      "\n",
      "              V7        V8        V9  ...       V20       V21       V22  \\\n",
      "164864  0.388167 -0.279675  0.564404  ... -0.278333 -0.050234 -0.064164   \n",
      "236896 -0.086310 -0.468118 -0.668942  ... -0.475030 -0.549392 -1.100406   \n",
      "117471 -1.067195  0.228677  1.873965  ...  0.330142  0.145984  0.617094   \n",
      "163219  1.408481 -0.463986  4.710447  ...  2.619981 -1.270520 -0.757992   \n",
      "161648 -1.290503  0.242091 -1.181841  ... -0.501236 -0.115405  0.228371   \n",
      "...          ...       ...       ...  ...       ...       ...       ...   \n",
      "279863 -0.882850  0.697211 -2.064945  ...  1.252967  0.778584 -0.319189   \n",
      "280143 -1.413170  0.248525 -1.127396  ...  0.226138  0.370612  0.028234   \n",
      "280149 -2.234739  1.210158 -0.652250  ...  0.247968  0.751826  0.834108   \n",
      "281144 -2.208002  1.058733 -1.632333  ...  0.306271  0.583276 -0.269209   \n",
      "281674  0.223050 -0.068384  0.577829  ... -0.017652 -0.164350 -0.295135   \n",
      "\n",
      "             V23       V24       V25       V26       V27       V28  Amount  \n",
      "164864  0.095702  0.674315  0.199825  0.354138 -0.099786 -0.068899   17.99  \n",
      "236896  0.471644  0.916433 -0.553162  0.247103 -0.060134 -0.034967   67.75  \n",
      "117471 -0.260421  0.558980  0.267996  1.230809 -0.004451  0.052702  178.95  \n",
      "163219  0.013553 -0.059960  0.145109 -0.152783 -0.565190 -1.867803    8.99  \n",
      "161648  0.300122 -0.589160 -0.330549 -0.082227  0.049169 -0.057649   25.00  \n",
      "...          ...       ...       ...       ...       ...       ...     ...  \n",
      "279863  0.639419 -0.294885  0.537503  0.788395  0.292680  0.147968  390.00  \n",
      "280143 -0.145640 -0.081049  0.521875  0.739467  0.389152  0.186637    0.76  \n",
      "280149  0.190944  0.032070 -0.739695  0.471111  0.385107  0.194361   77.89  \n",
      "281144 -0.456108 -0.183659 -0.328168  0.606116  0.884876 -0.253700  245.00  \n",
      "281674 -0.072173 -0.450261  0.313267 -0.289617  0.002988 -0.015309   42.53  \n",
      "\n",
      "[984 rows x 30 columns]\n"
     ]
    }
   ],
   "source": [
    "print(X)"
   ]
  },
  {
   "cell_type": "code",
   "execution_count": 20,
   "id": "d2a8974d",
   "metadata": {
    "execution": {
     "iopub.execute_input": "2022-11-06T09:16:16.297871Z",
     "iopub.status.busy": "2022-11-06T09:16:16.297406Z",
     "iopub.status.idle": "2022-11-06T09:16:16.305063Z",
     "shell.execute_reply": "2022-11-06T09:16:16.303586Z"
    },
    "papermill": {
     "duration": 0.02242,
     "end_time": "2022-11-06T09:16:16.307837",
     "exception": false,
     "start_time": "2022-11-06T09:16:16.285417",
     "status": "completed"
    },
    "tags": []
   },
   "outputs": [
    {
     "name": "stdout",
     "output_type": "stream",
     "text": [
      "164864    0\n",
      "236896    0\n",
      "117471    0\n",
      "163219    0\n",
      "161648    0\n",
      "         ..\n",
      "279863    1\n",
      "280143    1\n",
      "280149    1\n",
      "281144    1\n",
      "281674    1\n",
      "Name: Class, Length: 984, dtype: int64\n"
     ]
    }
   ],
   "source": [
    "print(Y)"
   ]
  },
  {
   "cell_type": "markdown",
   "id": "31699260",
   "metadata": {
    "papermill": {
     "duration": 0.011415,
     "end_time": "2022-11-06T09:16:16.330869",
     "exception": false,
     "start_time": "2022-11-06T09:16:16.319454",
     "status": "completed"
    },
    "tags": []
   },
   "source": [
    "## Splitting the data into trainng and testing data"
   ]
  },
  {
   "cell_type": "code",
   "execution_count": 21,
   "id": "789cd39c",
   "metadata": {
    "execution": {
     "iopub.execute_input": "2022-11-06T09:16:16.355924Z",
     "iopub.status.busy": "2022-11-06T09:16:16.355505Z",
     "iopub.status.idle": "2022-11-06T09:16:16.364731Z",
     "shell.execute_reply": "2022-11-06T09:16:16.363535Z"
    },
    "papermill": {
     "duration": 0.02451,
     "end_time": "2022-11-06T09:16:16.367177",
     "exception": false,
     "start_time": "2022-11-06T09:16:16.342667",
     "status": "completed"
    },
    "tags": []
   },
   "outputs": [],
   "source": [
    "X_train, X_test, Y_train, Y_test = train_test_split(X, Y, test_size = 0.2, stratify=Y, random_state=2)"
   ]
  },
  {
   "cell_type": "code",
   "execution_count": 22,
   "id": "01e3c24e",
   "metadata": {
    "execution": {
     "iopub.execute_input": "2022-11-06T09:16:16.392559Z",
     "iopub.status.busy": "2022-11-06T09:16:16.392162Z",
     "iopub.status.idle": "2022-11-06T09:16:16.398005Z",
     "shell.execute_reply": "2022-11-06T09:16:16.396502Z"
    },
    "papermill": {
     "duration": 0.021632,
     "end_time": "2022-11-06T09:16:16.400576",
     "exception": false,
     "start_time": "2022-11-06T09:16:16.378944",
     "status": "completed"
    },
    "tags": []
   },
   "outputs": [
    {
     "name": "stdout",
     "output_type": "stream",
     "text": [
      "(984, 30) (787, 30) (197, 30)\n"
     ]
    }
   ],
   "source": [
    "print(X.shape, X_train.shape, X_test.shape)"
   ]
  },
  {
   "cell_type": "markdown",
   "id": "3ddb7c8c",
   "metadata": {
    "papermill": {
     "duration": 0.011004,
     "end_time": "2022-11-06T09:16:16.422984",
     "exception": false,
     "start_time": "2022-11-06T09:16:16.411980",
     "status": "completed"
    },
    "tags": []
   },
   "source": [
    "## Model Training"
   ]
  },
  {
   "cell_type": "code",
   "execution_count": 23,
   "id": "bd7f79fb",
   "metadata": {
    "execution": {
     "iopub.execute_input": "2022-11-06T09:16:16.448210Z",
     "iopub.status.busy": "2022-11-06T09:16:16.447818Z",
     "iopub.status.idle": "2022-11-06T09:16:16.453261Z",
     "shell.execute_reply": "2022-11-06T09:16:16.451928Z"
    },
    "papermill": {
     "duration": 0.020906,
     "end_time": "2022-11-06T09:16:16.455715",
     "exception": false,
     "start_time": "2022-11-06T09:16:16.434809",
     "status": "completed"
    },
    "tags": []
   },
   "outputs": [],
   "source": [
    "#Logistic Regression Model\n",
    "\n",
    "model = LogisticRegression()\n",
    "model = LogisticRegression( max_iter=1000)"
   ]
  },
  {
   "cell_type": "code",
   "execution_count": 24,
   "id": "b259a689",
   "metadata": {
    "execution": {
     "iopub.execute_input": "2022-11-06T09:16:16.481906Z",
     "iopub.status.busy": "2022-11-06T09:16:16.480640Z",
     "iopub.status.idle": "2022-11-06T09:16:16.614845Z",
     "shell.execute_reply": "2022-11-06T09:16:16.613172Z"
    },
    "papermill": {
     "duration": 0.15219,
     "end_time": "2022-11-06T09:16:16.619698",
     "exception": false,
     "start_time": "2022-11-06T09:16:16.467508",
     "status": "completed"
    },
    "tags": []
   },
   "outputs": [
    {
     "data": {
      "text/plain": [
       "LogisticRegression(max_iter=1000)"
      ]
     },
     "execution_count": 24,
     "metadata": {},
     "output_type": "execute_result"
    }
   ],
   "source": [
    "#training the Logistic Regression Model\n",
    "\n",
    "model.fit(X_train, Y_train)"
   ]
  },
  {
   "cell_type": "markdown",
   "id": "7260bbec",
   "metadata": {
    "papermill": {
     "duration": 0.029955,
     "end_time": "2022-11-06T09:16:16.680124",
     "exception": false,
     "start_time": "2022-11-06T09:16:16.650169",
     "status": "completed"
    },
    "tags": []
   },
   "source": [
    "## Model Valuation"
   ]
  },
  {
   "cell_type": "code",
   "execution_count": 25,
   "id": "7b7d5dc1",
   "metadata": {
    "execution": {
     "iopub.execute_input": "2022-11-06T09:16:16.740792Z",
     "iopub.status.busy": "2022-11-06T09:16:16.740405Z",
     "iopub.status.idle": "2022-11-06T09:16:16.754062Z",
     "shell.execute_reply": "2022-11-06T09:16:16.752189Z"
    },
    "papermill": {
     "duration": 0.044739,
     "end_time": "2022-11-06T09:16:16.767125",
     "exception": false,
     "start_time": "2022-11-06T09:16:16.722386",
     "status": "completed"
    },
    "tags": []
   },
   "outputs": [],
   "source": [
    "#accuracy score\n",
    "X_train_prediction = model.predict(X_train)\n",
    "training_data_accuracy = accuracy_score(X_train_prediction, Y_train)"
   ]
  },
  {
   "cell_type": "code",
   "execution_count": 26,
   "id": "92960476",
   "metadata": {
    "execution": {
     "iopub.execute_input": "2022-11-06T09:16:16.829991Z",
     "iopub.status.busy": "2022-11-06T09:16:16.829285Z",
     "iopub.status.idle": "2022-11-06T09:16:16.838153Z",
     "shell.execute_reply": "2022-11-06T09:16:16.836618Z"
    },
    "papermill": {
     "duration": 0.049747,
     "end_time": "2022-11-06T09:16:16.848969",
     "exception": false,
     "start_time": "2022-11-06T09:16:16.799222",
     "status": "completed"
    },
    "tags": []
   },
   "outputs": [
    {
     "name": "stdout",
     "output_type": "stream",
     "text": [
      "Accuracy on training data : 0.9542566709021602\n"
     ]
    }
   ],
   "source": [
    "print('Accuracy on training data :', training_data_accuracy)"
   ]
  },
  {
   "cell_type": "code",
   "execution_count": 27,
   "id": "ad4aa48f",
   "metadata": {
    "execution": {
     "iopub.execute_input": "2022-11-06T09:16:16.885229Z",
     "iopub.status.busy": "2022-11-06T09:16:16.884768Z",
     "iopub.status.idle": "2022-11-06T09:16:16.895890Z",
     "shell.execute_reply": "2022-11-06T09:16:16.894770Z"
    },
    "papermill": {
     "duration": 0.026994,
     "end_time": "2022-11-06T09:16:16.899029",
     "exception": false,
     "start_time": "2022-11-06T09:16:16.872035",
     "status": "completed"
    },
    "tags": []
   },
   "outputs": [],
   "source": [
    "#accuracy on test data\n",
    "X_test_prediction = model.predict(X_test)\n",
    "test_data_accuracy = accuracy_score(X_test_prediction, Y_test)"
   ]
  },
  {
   "cell_type": "code",
   "execution_count": 28,
   "id": "e1287fda",
   "metadata": {
    "execution": {
     "iopub.execute_input": "2022-11-06T09:16:16.922285Z",
     "iopub.status.busy": "2022-11-06T09:16:16.921882Z",
     "iopub.status.idle": "2022-11-06T09:16:16.927750Z",
     "shell.execute_reply": "2022-11-06T09:16:16.926566Z"
    },
    "papermill": {
     "duration": 0.021114,
     "end_time": "2022-11-06T09:16:16.931255",
     "exception": false,
     "start_time": "2022-11-06T09:16:16.910141",
     "status": "completed"
    },
    "tags": []
   },
   "outputs": [
    {
     "name": "stdout",
     "output_type": "stream",
     "text": [
      "Accuracy score on test data:  0.9137055837563451\n"
     ]
    }
   ],
   "source": [
    "print('Accuracy score on test data: ', test_data_accuracy)"
   ]
  }
 ],
 "metadata": {
  "kernelspec": {
   "display_name": "Python 3",
   "language": "python",
   "name": "python3"
  },
  "language_info": {
   "codemirror_mode": {
    "name": "ipython",
    "version": 3
   },
   "file_extension": ".py",
   "mimetype": "text/x-python",
   "name": "python",
   "nbconvert_exporter": "python",
   "pygments_lexer": "ipython3",
   "version": "3.7.12"
  },
  "papermill": {
   "default_parameters": {},
   "duration": 17.411723,
   "end_time": "2022-11-06T09:16:17.765850",
   "environment_variables": {},
   "exception": null,
   "input_path": "__notebook__.ipynb",
   "output_path": "__notebook__.ipynb",
   "parameters": {},
   "start_time": "2022-11-06T09:16:00.354127",
   "version": "2.3.4"
  }
 },
 "nbformat": 4,
 "nbformat_minor": 5
}
